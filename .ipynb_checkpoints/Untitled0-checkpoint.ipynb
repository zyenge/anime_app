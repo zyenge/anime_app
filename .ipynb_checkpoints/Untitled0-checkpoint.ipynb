{
 "metadata": {
  "name": "",
  "signature": "sha256:244d9392966c1da3449726f45ee28a3cc605707ae5a29b50b6649768ee409f5e"
 },
 "nbformat": 3,
 "nbformat_minor": 0,
 "worksheets": [
  {
   "cells": [
    {
     "cell_type": "code",
     "collapsed": false,
     "input": [
      "import xml.etree.ElementTree as ET\n",
      "import requests\n",
      "anime = requests.get('http://www.animenewsnetwork.com/encyclopedia/reports.xml?id=155&type=anime&nlist=all')\n",
      "manga = requests.get('http://www.animenewsnetwork.com/encyclopedia/reports.xml?id=155&type=manga&nlist=all')\n",
      "anime_str=ET.fromstring(anime.content)\n",
      "manga_str=ET.fromstring(manga.content)\n",
      "attr=['id','gid','type','name','precision','vintage']\n",
      "\n",
      "Anime_list=[]\n",
      "for num, el in enumerate(anime_str.findall('item')):\n",
      "    Anime_list.append([])\n",
      "    try:\n",
      "        Anime_list[num].append(el.find('id').text)\n",
      "    except Exception:\n",
      "        Anime_list[num].append('')\n",
      "    try:\n",
      "        Anime_list[num].append(el.find('gid').text)\n",
      "    except Exception:\n",
      "        Anime_list[num].append('')\n",
      "    try:\n",
      "        Anime_list[num].append(el.find('type').text)\n",
      "    except Exception:\n",
      "        Anime_list[num].append('')\n",
      "    try:\n",
      "        Anime_list[num].append(el.find('name').text)\n",
      "    except Exception:\n",
      "        Anime_list[num].append('')\n",
      "    try:\n",
      "        Anime_list[num].append(el.find('precision').text)\n",
      "    except Exception:\n",
      "        Anime_list[num].append('')\n",
      "    try:\n",
      "        Anime_list[num].append(el.find('vintage').text)\n",
      "    except Exception:\n",
      "        Anime_list[num].append('')\n",
      "        "
     ],
     "language": "python",
     "metadata": {},
     "outputs": [],
     "prompt_number": 14
    },
    {
     "cell_type": "code",
     "collapsed": false,
     "input": [
      "id_list=[]\n",
      "for an in Anime_list:\n",
      "    id_list.append(an[0])"
     ],
     "language": "python",
     "metadata": {},
     "outputs": [],
     "prompt_number": 15
    },
    {
     "cell_type": "code",
     "collapsed": false,
     "input": [
      "gendre_list=[]\n",
      "for count,_id in enumerate(id_list):\n",
      "    if count<=100:\n",
      "        api_addr='http://cdn.animenewsnetwork.com/encyclopedia/api.xml?title=%s' %_id\n",
      "        test = requests.get(api_addr)\n",
      "        test_str=ET.fromstring(test.content)\n",
      "        for i in test_str.findall('anime'):\n",
      "            try:\n",
      "                for j in i.findall('info'):\n",
      "                    try:\n",
      "                        if j.attrib['type']=='Genres':\n",
      "                            gendre_list.append((_id,j.text))\n",
      "                    except Exception:\n",
      "                        continue\n",
      "            except Exception:\n",
      "                continue\n",
      "    else: break"
     ],
     "language": "python",
     "metadata": {},
     "outputs": [],
     "prompt_number": 18
    },
    {
     "cell_type": "code",
     "collapsed": false,
     "input": [
      "datetime([int(i) for i in Anime_list[2][5].split('-')])"
     ],
     "language": "python",
     "metadata": {},
     "outputs": [
      {
       "ename": "TypeError",
       "evalue": "an integer is required",
       "output_type": "pyerr",
       "traceback": [
        "\u001b[1;31m---------------------------------------------------------------------------\u001b[0m\n\u001b[1;31mTypeError\u001b[0m                                 Traceback (most recent call last)",
        "\u001b[1;32m<ipython-input-29-22ac230ba9fa>\u001b[0m in \u001b[0;36m<module>\u001b[1;34m()\u001b[0m\n\u001b[1;32m----> 1\u001b[1;33m \u001b[0mdatetime\u001b[0m\u001b[1;33m(\u001b[0m\u001b[1;33m[\u001b[0m\u001b[0mint\u001b[0m\u001b[1;33m(\u001b[0m\u001b[0mi\u001b[0m\u001b[1;33m)\u001b[0m \u001b[1;32mfor\u001b[0m \u001b[0mi\u001b[0m \u001b[1;32min\u001b[0m \u001b[0mAnime_list\u001b[0m\u001b[1;33m[\u001b[0m\u001b[1;36m2\u001b[0m\u001b[1;33m]\u001b[0m\u001b[1;33m[\u001b[0m\u001b[1;36m5\u001b[0m\u001b[1;33m]\u001b[0m\u001b[1;33m.\u001b[0m\u001b[0msplit\u001b[0m\u001b[1;33m(\u001b[0m\u001b[1;34m'-'\u001b[0m\u001b[1;33m)\u001b[0m\u001b[1;33m]\u001b[0m\u001b[1;33m)\u001b[0m\u001b[1;33m\u001b[0m\u001b[0m\n\u001b[0m",
        "\u001b[1;31mTypeError\u001b[0m: an integer is required"
       ]
      }
     ],
     "prompt_number": 29
    },
    {
     "cell_type": "code",
     "collapsed": false,
     "input": [
      "list(gendre_list[0])"
     ],
     "language": "python",
     "metadata": {},
     "outputs": [
      {
       "metadata": {},
       "output_type": "pyout",
       "prompt_number": 43,
       "text": [
        "['16403', 'adventure']"
       ]
      }
     ],
     "prompt_number": 43
    },
    {
     "cell_type": "code",
     "collapsed": false,
     "input": [
      "def date_func(alist):\n",
      "    if len(alist)>2:\n",
      "        dt=datetime(alist[0],alist[1],alist[2])\n",
      "    elif len(alist)==2:\n",
      "        dt=datetime(alist[0],alist[1],1)\n",
      "    elif len(alist)==1:\n",
      "        dt=datetime(alist[0],7,1)\n",
      "    else:\n",
      "        dt=None\n",
      "    return dt"
     ],
     "language": "python",
     "metadata": {},
     "outputs": [],
     "prompt_number": 52
    },
    {
     "cell_type": "code",
     "collapsed": false,
     "input": [
      "date_func([int(i) for i in '2015'.split('-')])"
     ],
     "language": "python",
     "metadata": {},
     "outputs": [
      {
       "metadata": {},
       "output_type": "pyout",
       "prompt_number": 55,
       "text": [
        "datetime.datetime(2015, 7, 1, 0, 0)"
       ]
      }
     ],
     "prompt_number": 55
    },
    {
     "cell_type": "code",
     "collapsed": false,
     "input": [
      "new_gendre_list=[]\n",
      "for id_ in gendre_list:\n",
      "    for oid in Anime_list:\n",
      "        if id_[0]==oid[0] and len(oid[5])>3:\n",
      "            new_gendre_list.append([date_func([int(i) for i in oid[5].split('-')]),id_[1]])\n",
      "        "
     ],
     "language": "python",
     "metadata": {},
     "outputs": [],
     "prompt_number": 59
    },
    {
     "cell_type": "code",
     "collapsed": false,
     "input": [
      "adv_time=[]\n",
      "for i in new_gendre_list: \n",
      "    if i[1]=='adventure':\n",
      "        adv_time.append(i[0])\n",
      "        "
     ],
     "language": "python",
     "metadata": {},
     "outputs": [],
     "prompt_number": 61
    },
    {
     "cell_type": "code",
     "collapsed": false,
     "input": [
      "adv_time"
     ],
     "language": "python",
     "metadata": {},
     "outputs": [
      {
       "metadata": {},
       "output_type": "pyout",
       "prompt_number": 62,
       "text": [
        "[datetime.datetime(1993, 9, 22, 0, 0),\n",
        " datetime.datetime(2014, 12, 30, 0, 0),\n",
        " datetime.datetime(2014, 10, 4, 0, 0)]"
       ]
      }
     ],
     "prompt_number": 62
    },
    {
     "cell_type": "code",
     "collapsed": false,
     "input": [
      "plot(adv_time)"
     ],
     "language": "python",
     "metadata": {},
     "outputs": [
      {
       "metadata": {},
       "output_type": "pyout",
       "prompt_number": 63,
       "text": [
        "[<matplotlib.lines.Line2D at 0x7b088f0>]"
       ]
      },
      {
       "metadata": {},
       "output_type": "display_data",
       "png": "[encoded data removed]",
       "text": [
        "<matplotlib.figure.Figure at 0x78298b0>"
       ]
      }
     ],
     "prompt_number": 63
    },
    {
     "cell_type": "code",
     "collapsed": false,
     "input": [],
     "language": "python",
     "metadata": {},
     "outputs": []
    }
   ],
   "metadata": {}
  }
 ]
}