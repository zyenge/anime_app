{
 "metadata": {
  "name": "",
  "signature": "sha256:ed83fe4eebc513ca105aef4c7905fb60ad6273d9ce95d25739da84186a8c8d81"
 },
 "nbformat": 3,
 "nbformat_minor": 0,
 "worksheets": [
  {
   "cells": [
    {
     "cell_type": "code",
     "collapsed": false,
     "input": [
      "import xml.etree.ElementTree as ET\n",
      "import requests\n",
      "anime = requests.get('http://www.animenewsnetwork.com/encyclopedia/reports.xml?id=155&type=anime&nlist=all')\n",
      "manga = requests.get('http://www.animenewsnetwork.com/encyclopedia/reports.xml?id=155&type=manga&nlist=all')\n",
      "anime_str=ET.fromstring(anime.content)\n",
      "manga_str=ET.fromstring(manga.content)\n",
      "attr=['id','gid','type','name','precision','vintage']"
     ],
     "language": "python",
     "metadata": {},
     "outputs": [],
     "prompt_number": 2
    },
    {
     "cell_type": "code",
     "collapsed": false,
     "input": [
      "Mange_Anime_list=[]\n",
      "for num, el in enumerate(anime_str.findall('item')):\n",
      "    Mange_Anime_list.append([])\n",
      "    try:\n",
      "        Mange_Anime_list[num].append(el.find('id').text)\n",
      "    except Exception:\n",
      "        Mange_Anime_list[num].append('')\n",
      "    try:\n",
      "        Mange_Anime_list[num].append(el.find('gid').text)\n",
      "    except Exception:\n",
      "        Mange_Anime_list[num].append('')\n",
      "    try:\n",
      "        Mange_Anime_list[num].append(el.find('type').text)\n",
      "    except Exception:\n",
      "        Mange_Anime_list[num].append('')\n",
      "    try:\n",
      "        Mange_Anime_list[num].append(el.find('name').text)\n",
      "    except Exception:\n",
      "        Mange_Anime_list[num].append('')\n",
      "    try:\n",
      "        Mange_Anime_list[num].append(el.find('precision').text)\n",
      "    except Exception:\n",
      "        Mange_Anime_list[num].append('')\n",
      "    try:\n",
      "        Mange_Anime_list[num].append(el.find('vintage').text)\n",
      "    except Exception:\n",
      "        Mange_Anime_list[num].append('')\n",
      "for i in Mange_Anime_list:\n",
      "    print i"
     ],
     "language": "python",
     "metadata": {},
     "outputs": [],
     "prompt_number": 2
    },
    {
     "cell_type": "code",
     "collapsed": false,
     "input": [
      "test = requests.get('http://cdn.animenewsnetwork.com/encyclopedia/api.xml?title=16377')\n",
      "test_str=ET.fromstring(test.content)"
     ],
     "language": "python",
     "metadata": {},
     "outputs": [],
     "prompt_number": 3
    },
    {
     "cell_type": "code",
     "collapsed": false,
     "input": [
      "for i in test_str.findall('anime'):\n",
      "    for j in i.findall('info'):\n",
      "        if j.attrib['type']=='Genres':\n",
      "            print j.text"
     ],
     "language": "python",
     "metadata": {},
     "outputs": [
      {
       "output_type": "stream",
       "stream": "stdout",
       "text": [
        "romance\n",
        "science fiction\n"
       ]
      }
     ],
     "prompt_number": 18
    },
    {
     "cell_type": "code",
     "collapsed": false,
     "input": [],
     "language": "python",
     "metadata": {},
     "outputs": []
    }
   ],
   "metadata": {}
  }
 ]
}